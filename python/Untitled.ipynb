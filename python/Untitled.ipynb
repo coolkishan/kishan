{
 "cells": [
  {
   "cell_type": "code",
   "execution_count": 5,
   "metadata": {},
   "outputs": [
    {
     "ename": "SyntaxError",
     "evalue": "invalid syntax (<ipython-input-5-c7c6536e3372>, line 8)",
     "output_type": "error",
     "traceback": [
      "\u001b[1;36m  File \u001b[1;32m\"<ipython-input-5-c7c6536e3372>\"\u001b[1;36m, line \u001b[1;32m8\u001b[0m\n\u001b[1;33m    else:\u001b[0m\n\u001b[1;37m       ^\u001b[0m\n\u001b[1;31mSyntaxError\u001b[0m\u001b[1;31m:\u001b[0m invalid syntax\n"
     ]
    }
   ],
   "source": [
    "def encrypt_text(input_text,shift_pattern):\n",
    "    cipher_result=\" \"\n",
    "    for each_char in input_text:\n",
    "        if each_char==\" \":\n",
    "            cipher_result=cipher_result+each_char\n",
    "        elif each_char.isupper():\n",
    "            cipher_result=cipher_result+chr(((ord(each_char)+shift_pattern-65)%26+65)\n",
    "        else:\n",
    "            cipher_result=cipher_result+chr((ord(each_char)+shift_pattern-97)%26+97)\n",
    "    return cipher_result\n",
    "def user_input():\n",
    "    while True:\n",
    "        print(\"Enter 1 to encrypt the text using Ceaser cipher technique\\n\")\n",
    "        print(\"Enter 2 to exit the program\\n\")\n",
    "        choice=int(input())\n",
    "        print(\" \")\n",
    "        if choice==1:\n",
    "            input_text=input(\"Enter a text\\n\")\n",
    "            shift_patttern=int(input(\"Enter shift pattern for encryption\"))\n",
    "            encrypted_text=encryt_text(input_text,shift_pattern)\n",
    "            print(\"The encrypted text is=\",encryped_text)\n",
    "        else:\n",
    "            break\n",
    "user_input() "
   ]
  },
  {
   "cell_type": "code",
   "execution_count": 1,
   "metadata": {},
   "outputs": [
    {
     "name": "stdout",
     "output_type": "stream",
     "text": [
      "Enter the number 6\n",
      "0  1  \n",
      "1  \n",
      "2  \n",
      "3  \n",
      "5  \n"
     ]
    }
   ],
   "source": [
    "## fibonacci\n",
    "x1=0\n",
    "x2=1\n",
    "n=int(input(\"Enter the number \"))\n",
    "print(\"%d  %d  \"%(x1,x2))\n",
    "for i in range (n-2):\n",
    "    x3=x1+x2\n",
    "    x1=x2\n",
    "    x2=x3\n",
    "    print(\"%d  \"%x3)\n"
   ]
  },
  {
   "cell_type": "code",
   "execution_count": 13,
   "metadata": {},
   "outputs": [
    {
     "name": "stdout",
     "output_type": "stream",
     "text": [
      "Enter the number 5\n",
      "0\n",
      "1\n",
      "1\n",
      "2\n",
      "3\n"
     ]
    }
   ],
   "source": [
    "## fibonacci\n",
    "x1=0\n",
    "x2=1\n",
    "n=int(input(\"Enter the number \"))\n",
    "if n>0:\n",
    "    if n==1:\n",
    "        print(x1)\n",
    "    else:\n",
    "        print(x1)\n",
    "        print(x2)\n",
    "        for i in range (n-2):\n",
    "            x3=x1+x2\n",
    "            x1=x2\n",
    "            x2=x3\n",
    "            print(x3)\n",
    "else:\n",
    "    print(\"Invalid input\")\n"
   ]
  },
  {
   "cell_type": "code",
   "execution_count": 18,
   "metadata": {},
   "outputs": [
    {
     "name": "stdout",
     "output_type": "stream",
     "text": [
      "Enter the number 2\n"
     ]
    }
   ],
   "source": [
    "n=int(input(\"Enter the number \"))\n",
    "if n>1:\n",
    "    for i in range(2,n):\n",
    "        if n%i==0:\n",
    "            print(\"Number\",n,\"is not prime\")\n",
    "        else:\n",
    "            print(\"Number\",n,\"is prime\")\n",
    "else:\n",
    "       print(\"Number\",n,\"is not prime\")"
   ]
  },
  {
   "cell_type": "code",
   "execution_count": null,
   "metadata": {},
   "outputs": [],
   "source": []
  }
 ],
 "metadata": {
  "kernelspec": {
   "display_name": "Python 3",
   "language": "python",
   "name": "python3"
  },
  "language_info": {
   "codemirror_mode": {
    "name": "ipython",
    "version": 3
   },
   "file_extension": ".py",
   "mimetype": "text/x-python",
   "name": "python",
   "nbconvert_exporter": "python",
   "pygments_lexer": "ipython3",
   "version": "3.7.3"
  }
 },
 "nbformat": 4,
 "nbformat_minor": 2
}
